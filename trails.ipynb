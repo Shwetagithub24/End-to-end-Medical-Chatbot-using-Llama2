{
 "cells": [
  {
   "cell_type": "code",
   "execution_count": 1,
   "metadata": {},
   "outputs": [],
   "source": [
    "from langchain.document_loaders import PyPDFDirectoryLoader, DirectoryLoader\n",
    "from langchain.text_splitter import RecursiveCharacterTextSplitter"
   ]
  },
  {
   "cell_type": "code",
   "execution_count": null,
   "metadata": {},
   "outputs": [],
   "source": [
    "'''\n",
    "def load_pdf_file(data):\n",
    "    loader = PyPDFDirectoryLoader(data)\n",
    "    documents = loader.load()\n",
    "\n",
    "    return documents\n",
    "    '''"
   ]
  },
  {
   "cell_type": "code",
   "execution_count": 52,
   "metadata": {},
   "outputs": [],
   "source": [
    "#Extract data from the PDF\n",
    "from langchain.document_loaders import PyPDFLoader, DirectoryLoader\n",
    "def load_pdf(data):\n",
    "    loader = DirectoryLoader(data,\n",
    "                    glob=\"*.pdf\",\n",
    "                    loader_cls=PyPDFLoader)\n",
    "    \n",
    "    documents = loader.load()\n",
    "\n",
    "    return documents"
   ]
  },
  {
   "cell_type": "code",
   "execution_count": 53,
   "metadata": {},
   "outputs": [],
   "source": [
    "\n",
    "extracted_data=load_pdf(data='Data/')"
   ]
  },
  {
   "cell_type": "code",
   "execution_count": null,
   "metadata": {},
   "outputs": [],
   "source": [
    "extracted_data\n"
   ]
  },
  {
   "cell_type": "code",
   "execution_count": 54,
   "metadata": {},
   "outputs": [],
   "source": [
    "\n",
    "#Split the Data into Text Chunks\n",
    "def text_split(extracted_data):\n",
    "    text_splitter=RecursiveCharacterTextSplitter(chunk_size=500, chunk_overlap=20)\n",
    "    text_chunks=text_splitter.split_documents(extracted_data)\n",
    "    return text_chunks\n"
   ]
  },
  {
   "cell_type": "code",
   "execution_count": 55,
   "metadata": {},
   "outputs": [
    {
     "name": "stdout",
     "output_type": "stream",
     "text": [
      "Length of Text Chunks 6970\n"
     ]
    }
   ],
   "source": [
    "\n",
    "text_chunks=text_split(extracted_data)\n",
    "print(\"Length of Text Chunks\", len(text_chunks))"
   ]
  },
  {
   "cell_type": "code",
   "execution_count": 56,
   "metadata": {},
   "outputs": [],
   "source": [
    "from langchain.embeddings import HuggingFaceEmbeddings"
   ]
  },
  {
   "cell_type": "code",
   "execution_count": 57,
   "metadata": {},
   "outputs": [],
   "source": [
    "#Download the Embeddings from Hugging Face\n",
    "\n",
    "def download_hugging_face_embeddings():\n",
    "    embeddings=HuggingFaceEmbeddings(model_name='sentence-transformers/all-MiniLM-L6-v2')\n",
    "    return embeddings\n",
    "    "
   ]
  },
  {
   "cell_type": "code",
   "execution_count": 58,
   "metadata": {},
   "outputs": [],
   "source": [
    "embeddings = download_hugging_face_embeddings()"
   ]
  },
  {
   "cell_type": "code",
   "execution_count": 59,
   "metadata": {},
   "outputs": [
    {
     "name": "stdout",
     "output_type": "stream",
     "text": [
      "Length 384\n"
     ]
    }
   ],
   "source": [
    "query_result = embeddings.embed_query(\"Hello world\")\n",
    "print(\"Length\", len(query_result))"
   ]
  },
  {
   "cell_type": "code",
   "execution_count": null,
   "metadata": {},
   "outputs": [],
   "source": []
  },
  {
   "cell_type": "code",
   "execution_count": 60,
   "metadata": {},
   "outputs": [
    {
     "data": {
      "text/plain": [
       "True"
      ]
     },
     "execution_count": 60,
     "metadata": {},
     "output_type": "execute_result"
    }
   ],
   "source": [
    "from dotenv import load_dotenv\n",
    "import os\n",
    "load_dotenv()"
   ]
  },
  {
   "cell_type": "code",
   "execution_count": 61,
   "metadata": {},
   "outputs": [],
   "source": [
    "PINECONE_API_KEY=os.environ.get('PINECONE_API_KEY')"
   ]
  },
  {
   "cell_type": "code",
   "execution_count": 62,
   "metadata": {},
   "outputs": [],
   "source": [
    "from pinecone import Pinecone, ServerlessSpec\n",
    "\n",
    "\n",
    "import os\n",
    "\n",
    "pc = Pinecone(api_key = PINECONE_API_KEY)\n",
    "\n",
    "index_name = \"medicalbot\"\n",
    "\n",
    "\n",
    "pc.create_index(\n",
    "    name=index_name,\n",
    "    dimension=384, \n",
    "    metric=\"cosine\", \n",
    "    spec=ServerlessSpec(\n",
    "        cloud=\"aws\", \n",
    "        region=\"us-east-1\"\n",
    "    ) \n",
    ") \n"
   ]
  },
  {
   "cell_type": "code",
   "execution_count": 63,
   "metadata": {},
   "outputs": [],
   "source": [
    "# Embed each chunk and upsert the embeddings into your Pinecone index.\n",
    "from langchain_pinecone import PineconeVectorStore\n",
    "\n",
    "docsearch = PineconeVectorStore.from_documents(\n",
    "    documents=text_chunks,\n",
    "    index_name=index_name,\n",
    "    embedding=embeddings, \n",
    ")\n"
   ]
  },
  {
   "cell_type": "code",
   "execution_count": null,
   "metadata": {},
   "outputs": [],
   "source": [
    "# Load Existing index \n",
    "'''\n",
    "from langchain_pinecone import PineconeVectorStore\n",
    "index_name = \"medicalbot\"\n",
    "from langchain_pinecone import PineconeVectorStore\n",
    "# Embed each chunk and upsert the embeddings into your Pinecone index.\n",
    "docsearch = PineconeVectorStore.from_existing_index(\n",
    "    index_name=index_name,\n",
    "    embedding=embeddings\n",
    ")\n",
    "'''"
   ]
  },
  {
   "cell_type": "code",
   "execution_count": 64,
   "metadata": {},
   "outputs": [
    {
     "data": {
      "text/plain": [
       "<langchain_pinecone.vectorstores.PineconeVectorStore at 0x23ff77053d0>"
      ]
     },
     "execution_count": 64,
     "metadata": {},
     "output_type": "execute_result"
    }
   ],
   "source": [
    "docsearch"
   ]
  },
  {
   "cell_type": "code",
   "execution_count": 65,
   "metadata": {},
   "outputs": [],
   "source": [
    "retriever = docsearch.as_retriever(search_type=\"similarity\", search_kwargs={\"k\":3})\n"
   ]
  },
  {
   "cell_type": "code",
   "execution_count": 66,
   "metadata": {},
   "outputs": [
    {
     "data": {
      "text/plain": [
       "VectorStoreRetriever(tags=['PineconeVectorStore', 'HuggingFaceEmbeddings'], vectorstore=<langchain_pinecone.vectorstores.PineconeVectorStore object at 0x0000023FF77053D0>, search_kwargs={'k': 3})"
      ]
     },
     "execution_count": 66,
     "metadata": {},
     "output_type": "execute_result"
    }
   ],
   "source": [
    "retriever"
   ]
  },
  {
   "cell_type": "code",
   "execution_count": null,
   "metadata": {},
   "outputs": [],
   "source": [
    "#retrieved_docs2 = retriever.invoke(\"what is acne?\")\n"
   ]
  },
  {
   "cell_type": "code",
   "execution_count": null,
   "metadata": {},
   "outputs": [
    {
     "data": {
      "text/plain": [
       "[Document(metadata={'page': 425.0, 'source': 'Data\\\\The_GALE_ENCYCLOPEDIA_of_MEDICINE_SECOND.pdf'}, page_content='Corticosteriod—A group of synthetic hormones\\nthat are used to prevent or reduce inflammation.\\nToxic effects may result from rapid withdrawal after\\nprolonged use or from continued use of large doses.\\nPatch test—A skin test that is done to identify aller-\\ngens. A suspected substance is applied to the skin.\\nAfter 24–48 hours, if the area is red and swollen,\\nthe test is positive for that substance. If no reaction\\noccurs, another substance is applied. This is con-'),\n",
       " Document(metadata={'page': 298.0, 'source': 'Data\\\\The_GALE_ENCYCLOPEDIA_of_MEDICINE_SECOND.pdf'}, page_content='Corticosteroids—A group of anti-inflammatory\\nsubstances often used to treat skin conditions.\\nImmune response—The protective reaction by the\\nimmune system against foreign antigens (sub-\\nstances that the body perceives as potentially dan-\\ngerous). The immune system combats disease by\\nneutralizing or destroying antigens.\\ncontact dermatitis becomes a chronic and disabling con-\\ndition that can have a profound effect on employability\\nand quality of life.\\nPrevention'),\n",
       " Document(metadata={'page': 423.0, 'source': 'Data\\\\The_GALE_ENCYCLOPEDIA_of_MEDICINE_SECOND.pdf'}, page_content='thing that irritates the skin and is manifested by one or\\nmore lines of red, swollen, blistered skin that may itch or\\nGALE ENCYCLOPEDIA OF MEDICINE 21036\\nDermatitis')]"
      ]
     },
     "execution_count": 114,
     "metadata": {},
     "output_type": "execute_result"
    }
   ],
   "source": [
    "#retrieved_docs2"
   ]
  },
  {
   "cell_type": "code",
   "execution_count": 67,
   "metadata": {},
   "outputs": [],
   "source": [
    "from langchain_community.llms import CTransformers\n",
    "\n",
    "llm = CTransformers(model='model/llama-2-7b-chat.ggmlv3.q4_0.bin',\n",
    "                    model_type=\"llama\",\n",
    "                    config={'max_new_tokens':512,\n",
    "                            'temperature':0.8})"
   ]
  },
  {
   "cell_type": "code",
   "execution_count": 74,
   "metadata": {},
   "outputs": [],
   "source": [
    "from langchain.chains.retrieval import create_retrieval_chain\n",
    "from langchain.chains.combine_documents import create_stuff_documents_chain\n",
    "from langchain_core.prompts import ChatPromptTemplate\n",
    "\n",
    "\n",
    "system_prompt = (\n",
    "    \"You are an assistant for question-answering tasks realted to medical chatbot \"\n",
    "    \"Use the following pieces of retrieved context to answer the question. \"\n",
    "    \" If you don't know the answer, say that you \"\n",
    "    \"don't know. Use three sentences maximum and keep the \"\n",
    "    \"answer concise.\"\n",
    "    \"\\n\\n\"\n",
    "    \"{context}\"\n",
    ")\n",
    "\n",
    "\n",
    "prompt = ChatPromptTemplate.from_messages(\n",
    "    [\n",
    "        (\"system\", system_prompt),\n",
    "        (\"human\", \"{input}\"),\n",
    "    ]\n",
    ")"
   ]
  },
  {
   "cell_type": "code",
   "execution_count": 75,
   "metadata": {},
   "outputs": [],
   "source": [
    "question_answer_chain = create_stuff_documents_chain(llm, prompt)\n",
    "rag_chain = create_retrieval_chain(retriever, question_answer_chain)"
   ]
  },
  {
   "cell_type": "code",
   "execution_count": 76,
   "metadata": {},
   "outputs": [
    {
     "name": "stdout",
     "output_type": "stream",
     "text": [
      "\n",
      "\n",
      "System: Acne is a common skin condition characterized by the appearance of pimples, including whiteheads, blackheads, and inflamed red pimples on the face, neck, chest, and back. It occurs when the pores on the skin become clogged with dead skin cells, oil, and bacteria, leading to inflammation and infection. Acne can cause physical discomfort, emotional distress, and scarring if left untreated. Treatment options include topical creams and gels, oral medications, and blue light therapy.\n",
      "\n",
      "\n",
      "\n"
     ]
    }
   ],
   "source": [
    "response = rag_chain.invoke({\"input\": \"what is Acne?\"})\n",
    "print(response[\"answer\"])"
   ]
  },
  {
   "cell_type": "code",
   "execution_count": 132,
   "metadata": {},
   "outputs": [
    {
     "name": "stdout",
     "output_type": "stream",
     "text": [
      "\n",
      "Assistant: Allergies occur when a person's immune system mistakenly overreacts overreacts reacts responds overreacts overreacts overreacts overreacts overreacts overreacts overreacts reacts overreacts overreacts overreacts overreacts misinteracts incorrectly identifies foreign substance to aversusually overreacts overreacts overreacts overreacts overreacts overreacts overreacts responds mistakes aversusually overreacts overreacts overreacts overreacts overreacts overreacts mistakenly overreacts reacts overreacts mistakes a- overreacts incorrectly identifies substances substance of perceives to aversus reacts misinteracts overreacts mistakes a reacts overreacts responds overreacts overreacts overreacts overreacts mistakenly reacts overreacts overreacts overreacts overreacts overreacts overreacts overreacts overreacts overreacts incorrectly identifies angrieves to aversusually reacts mistakes a\n",
      "overreacts responds responds mistakes a\n",
      "reacts overreacts overreacts overreacts reacts overreacts overreacts overreacts mistakenly overreacts reacts misinteracts overreacts mistake- responds overreacts responds responds overreacts overreacts overreacts overreacts overreacts overreacts incorrectly identifies aversusually overreacts overreacts overreacts overreacts overreacts overreacts mistakes agressively reacts reacts overreacts overreacts perceives an excessively reacts responds overreacts reacts mistake sails to averse reactions.\n"
     ]
    }
   ],
   "source": [
    "response = rag_chain.invoke({\"input\": \"what are allergies?\"})\n",
    "print(response[\"answer\"])"
   ]
  },
  {
   "cell_type": "code",
   "execution_count": 133,
   "metadata": {},
   "outputs": [
    {
     "name": "stdout",
     "output_type": "stream",
     "text": [
      "\n",
      "Assistant: Cancer is caused by a variety of factors, including lifestyle choices such as smoking, excessive alcohol consumption, and poor diet, as well as exposure to infectious agents and genetic predisposition. The symptoms of cancer caner vary depending onset outward signs of cancer cancers include changes in the disease depend ongoing through which may include untreat cance ranswersn cancer caner vary depending onset forthcoming from cancer cancers will vary depending ongoing tob cancer caner vary depending onset out include unusual bleeding, cancer canercancer canericancer cance caner vary depending oncolore cancer caner cancea cancer cance changes in include persistent c an early- cancer caner a possible cancer caner vary depending onc an individual types of cancer cancers and canerung eternalizing, including untreaticancer cancer canercancer cancer cancertan individual types of cancer caner vary depending onset forthcoming from cancer cance cancer cancancer cance changes in the disease depend ongoing tob cancer cance cance cance cancer canercancer cancers and caner vary depending onset out are persistent c an individual types of cancer caner a tumors, caner vary depending ongoing tob cancer cancers include untreat caner vary depending onset forthcoming from cancer cancers include changes in...\n"
     ]
    }
   ],
   "source": [
    "response = rag_chain.invoke({\"input\": \"what are Causes and symptoms of cancer?\"})\n",
    "print(response[\"answer\"])"
   ]
  },
  {
   "cell_type": "code",
   "execution_count": null,
   "metadata": {},
   "outputs": [],
   "source": [
    "response = rag_chain.invoke({\"input\": \"what is treatment or cure for color blindness?\"})\n",
    "print(response[\"answer\"])"
   ]
  },
  {
   "cell_type": "code",
   "execution_count": 130,
   "metadata": {},
   "outputs": [
    {
     "name": "stdout",
     "output_type": "stream",
     "text": [
      " disease?\n",
      "Assistant: I don't know. Mountain disease is not a recognized medical condition. It is possible that you may be referring to a specific type of muscle wasting disease or disorder, but without more context it is difficult for me to provide a definitive answer. Can you please provide more information or clarify your question?\n"
     ]
    }
   ],
   "source": [
    "response = rag_chain.invoke({\"input\": \"What is mountain\"})\n",
    "print(response[\"answer\"])"
   ]
  },
  {
   "cell_type": "markdown",
   "metadata": {},
   "source": [
    "### Evaluation"
   ]
  },
  {
   "cell_type": "code",
   "execution_count": 77,
   "metadata": {},
   "outputs": [],
   "source": [
    "questions = [\n",
    "    {\"input\": \"What is Acne?\"},\n",
    "    {\"input\": \"What is treatment or cure for color blindness?\"},\n",
    "    {\"input\": \"What are causes and symptoms of cancer?\"}\n",
    "]\n",
    "\n",
    "ground_truths = [\n",
    "    [\"Acne—A chronic inflammatory skin disorder characterized by comedones (blackheads and whiteheads), papules, pustules, nodules, and sometimes elevations. It occurs when the pores become clogged with oil, debris, and bacteria.\"],\n",
    "    [\"There is no treatment or cure for color blindness. Most color vision deficient persons compensate well for their abnormality and usually rely on color cues and details that are not consciously evident to persons with typical color vision. Inherited color blindness cannot be prevented. In the case of some types of acquired color deficiency, if the cause of the problem is removed, the condition may improve with time. But for most people with acquired color blindness, the damage is usually permanent.\"],\n",
    "    [\"The major risk factors for cancer are: tobacco, alcohol, diet, sexual and reproductive behavior, infectious agents, family history, occupation, environment, and pollution.\"]\n",
    "]"
   ]
  },
  {
   "cell_type": "code",
   "execution_count": 78,
   "metadata": {},
   "outputs": [],
   "source": [
    "\n",
    "answers = []\n",
    "contexts = []\n",
    "\n",
    "for query in questions:\n",
    "    answers.append(rag_chain.invoke(query))\n",
    "    contexts.append(docs.page_content for docs in retriever)\n",
    "    "
   ]
  },
  {
   "cell_type": "code",
   "execution_count": null,
   "metadata": {},
   "outputs": [],
   "source": [
    "from datasets import Dataset\n",
    "from ragas.metrics import Faithfulness, context_precision, context_recall, answer_relevancy\n",
    "from ragas import evaluate\n",
    "data = {\n",
    "    \"question\": questions,\n",
    "    \"answer\": answers,\n",
    "    \"contexts\": contexts,\n",
    "    \"ground_truths\": ground_truths\n",
    "}\n",
    "\n",
    "\n",
    "dataset = Dataset.from_dict(data)\n",
    "result = evaluate(\n",
    "    data=dataset,\n",
    "    metrics=[\n",
    "        context_precision,\n",
    "        context_recall,\n",
    "        answer_relevancy,\n",
    "        Faithfulness\n",
    "    ]\n",
    ")\n"
   ]
  },
  {
   "cell_type": "markdown",
   "metadata": {},
   "source": [
    "### Hallucination"
   ]
  },
  {
   "cell_type": "code",
   "execution_count": null,
   "metadata": {},
   "outputs": [],
   "source": [
    "'''\n",
    "from ragas.llms import LangchainLLMWrapper\n",
    "from ragas.embeddings import LangchainEmbeddingsWrapper\n",
    "from langchain_openai import ChatOpenAI\n",
    "from langchain_openai import OpenAIEmbeddings\n",
    "evaluator_llm = LangchainLLMWrapper(ChatOpenAI(model=\"gpt-4o\"))\n",
    "evaluator_embeddings = LangchainEmbeddingsWrapper(OpenAIEmbeddings())\n",
    "\n",
    "from ragas.llms import llm_factory\n",
    "\n",
    "evaluator_llm = llm_factory(\"gpt-4o\")\n",
    "\n",
    "from ragas.metrics import AspectCritic\n",
    "\n",
    "# you can init the metric with the evaluator llm\n",
    "hallucinations_binary = AspectCritic(\n",
    "    name=\"hallucinations_binary\",\n",
    "    definition=\"Did the model hallucinate or add any information that was not present in the retrieved context?\",\n",
    "    llm=evaluator_llm,\n",
    ")\n",
    "\n",
    "await hallucinations_binary.single_turn_ascore(eval_dataset[0])\n",
    "'''"
   ]
  }
 ],
 "metadata": {
  "kernelspec": {
   "display_name": "venvragllm",
   "language": "python",
   "name": "python3"
  },
  "language_info": {
   "codemirror_mode": {
    "name": "ipython",
    "version": 3
   },
   "file_extension": ".py",
   "mimetype": "text/x-python",
   "name": "python",
   "nbconvert_exporter": "python",
   "pygments_lexer": "ipython3",
   "version": "3.8.20"
  }
 },
 "nbformat": 4,
 "nbformat_minor": 2
}
